{
 "cells": [
  {
   "cell_type": "code",
   "execution_count": 1,
   "metadata": {},
   "outputs": [
    {
     "name": "stdout",
     "output_type": "stream",
     "text": [
      "Package               Version\n",
      "--------------------- -----------\n",
      "altair                4.2.2\n",
      "asttokens             2.2.1\n",
      "attrs                 22.2.0\n",
      "backcall              0.2.0\n",
      "blinker               1.5\n",
      "cachetools            5.3.0\n",
      "certifi               2022.12.7\n",
      "charset-normalizer    3.0.1\n",
      "click                 8.1.3\n",
      "colorama              0.4.6\n",
      "comm                  0.1.2\n",
      "contourpy             1.0.7\n",
      "cycler                0.11.0\n",
      "debugpy               1.6.6\n",
      "decorator             5.1.1\n",
      "entrypoints           0.4\n",
      "executing             1.2.0\n",
      "fonttools             4.38.0\n",
      "gitdb                 4.0.10\n",
      "GitPython             3.1.31\n",
      "idna                  3.4\n",
      "importlib-metadata    6.0.0\n",
      "importlib-resources   5.12.0\n",
      "ipykernel             6.21.2\n",
      "ipython               8.10.0\n",
      "jedi                  0.18.2\n",
      "Jinja2                3.1.2\n",
      "jsonschema            4.17.3\n",
      "jupyter_client        8.0.3\n",
      "jupyter_core          5.2.0\n",
      "kiwisolver            1.4.4\n",
      "markdown-it-py        2.2.0\n",
      "MarkupSafe            2.1.2\n",
      "matplotlib            3.7.0\n",
      "matplotlib-inline     0.1.6\n",
      "mdurl                 0.1.2\n",
      "nest-asyncio          1.5.6\n",
      "numpy                 1.24.2\n",
      "packaging             23.0\n",
      "pandas                1.5.3\n",
      "parso                 0.8.3\n",
      "pickleshare           0.7.5\n",
      "Pillow                9.4.0\n",
      "pip                   23.0.1\n",
      "platformdirs          3.0.0\n",
      "prompt-toolkit        3.0.37\n",
      "protobuf              3.20.3\n",
      "psutil                5.9.4\n",
      "pure-eval             0.2.2\n",
      "pyarrow               11.0.0\n",
      "pydeck                0.8.0\n",
      "Pygments              2.14.0\n",
      "Pympler               1.0.1\n",
      "pyparsing             3.0.9\n",
      "pyrsistent            0.19.3\n",
      "python-dateutil       2.8.2\n",
      "pytz                  2022.7.1\n",
      "pytz-deprecation-shim 0.1.0.post0\n",
      "pywin32               305\n",
      "pyzmq                 25.0.0\n",
      "requests              2.28.2\n",
      "rich                  13.3.1\n",
      "semver                2.13.0\n",
      "setuptools            56.0.0\n",
      "six                   1.16.0\n",
      "smmap                 5.0.0\n",
      "stack-data            0.6.2\n",
      "streamlit             1.18.1\n",
      "toml                  0.10.2\n",
      "toolz                 0.12.0\n",
      "tornado               6.2\n",
      "traitlets             5.9.0\n",
      "typing_extensions     4.5.0\n",
      "tzdata                2022.7\n",
      "tzlocal               4.2\n",
      "urllib3               1.26.14\n",
      "validators            0.20.0\n",
      "watchdog              2.2.1\n",
      "wcwidth               0.2.6\n",
      "zipp                  3.14.0\n"
     ]
    }
   ],
   "source": [
    "!pip list"
   ]
  },
  {
   "cell_type": "code",
   "execution_count": null,
   "metadata": {},
   "outputs": [],
   "source": []
  }
 ],
 "metadata": {
  "kernelspec": {
   "display_name": "streamlit_prediction",
   "language": "python",
   "name": "python3"
  },
  "language_info": {
   "codemirror_mode": {
    "name": "ipython",
    "version": 3
   },
   "file_extension": ".py",
   "mimetype": "text/x-python",
   "name": "python",
   "nbconvert_exporter": "python",
   "pygments_lexer": "ipython3",
   "version": "3.9.6"
  },
  "orig_nbformat": 4,
  "vscode": {
   "interpreter": {
    "hash": "0d31a8d1d94679e46f8d18391126137a1df3263b9c4da01ed9c6612054179475"
   }
  }
 },
 "nbformat": 4,
 "nbformat_minor": 2
}
